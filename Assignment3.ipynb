{
  "nbformat": 4,
  "nbformat_minor": 0,
  "metadata": {
    "colab": {
      "name": "Assignment3.ipynb",
      "provenance": [],
      "collapsed_sections": []
    },
    "kernelspec": {
      "name": "python3",
      "display_name": "Python 3"
    }
  },
  "cells": [
    {
      "cell_type": "markdown",
      "metadata": {
        "id": "LeMo1QUq7PKc"
      },
      "source": [
        "**ASSIGNMENT 3**"
      ]
    },
    {
      "cell_type": "markdown",
      "metadata": {
        "id": "-kkTErIl7T-H"
      },
      "source": [
        "QUESTION 1\n",
        "\n",
        "Create a numpy array starting from 2 till 50 with a stepsize of 3."
      ]
    },
    {
      "cell_type": "code",
      "metadata": {
        "id": "pd6hS2bS6_Bk",
        "outputId": "119d1a9d-2d20-4b32-9c0f-ccfcda3a9cc2",
        "colab": {
          "base_uri": "https://localhost:8080/"
        }
      },
      "source": [
        "import numpy as np\n",
        "arr = np.array(range(2,51,3))\n",
        "print(arr)"
      ],
      "execution_count": null,
      "outputs": [
        {
          "output_type": "stream",
          "text": [
            "[ 2  5  8 11 14 17 20 23 26 29 32 35 38 41 44 47 50]\n"
          ],
          "name": "stdout"
        }
      ]
    },
    {
      "cell_type": "markdown",
      "metadata": {
        "id": "SPQKk6if7DMX"
      },
      "source": [
        "QUESTION 2\n",
        "\n",
        "Accept two lists of 5 elements each from the user.\n",
        "Convert them to numpy arrays. Concatenate these arrays and print it. Also sort these arrays and print it."
      ]
    },
    {
      "cell_type": "code",
      "metadata": {
        "id": "v1JkidO77dDm",
        "outputId": "0416407d-f89f-4959-c8a1-7f2d259ec62c",
        "colab": {
          "base_uri": "https://localhost:8080/"
        }
      },
      "source": [
        "import numpy as np\n",
        "\n",
        "list1= np.array([1,2,5,446,33])\n",
        "list2= np.array([23,4522,242,6,1])\n",
        "print(list1)\n",
        "print(list2)\n",
        "list3= np.concatenate((list1,list2))\n",
        "print (list3)\n",
        "list4 = np.sort(list3)\n",
        "print (list4)"
      ],
      "execution_count": 2,
      "outputs": [
        {
          "output_type": "stream",
          "text": [
            "[  1   2   5 446  33]\n",
            "[  23 4522  242    6    1]\n",
            "[   1    2    5  446   33   23 4522  242    6    1]\n",
            "[   1    1    2    5    6   23   33  242  446 4522]\n"
          ],
          "name": "stdout"
        }
      ]
    },
    {
      "cell_type": "markdown",
      "metadata": {
        "id": "3b5mkvBB7dQw"
      },
      "source": [
        "QUESTION 3\n",
        "\n",
        "Write a code snippet to find the dimensions of a ndarray and its size."
      ]
    },
    {
      "cell_type": "code",
      "metadata": {
        "id": "jKU_bDbx70CL",
        "outputId": "f05c7cdd-cbfa-477a-a4ef-c0b57adbc5d4",
        "colab": {
          "base_uri": "https://localhost:8080/"
        }
      },
      "source": [
        "import numpy as np\n",
        "arr = np.arange(24).reshape((2,2,2,3))\n",
        "print(arr)\n",
        "print(arr.ndim)\n",
        "print(arr.size)"
      ],
      "execution_count": 18,
      "outputs": [
        {
          "output_type": "stream",
          "text": [
            "[[[[ 0  1  2]\n",
            "   [ 3  4  5]]\n",
            "\n",
            "  [[ 6  7  8]\n",
            "   [ 9 10 11]]]\n",
            "\n",
            "\n",
            " [[[12 13 14]\n",
            "   [15 16 17]]\n",
            "\n",
            "  [[18 19 20]\n",
            "   [21 22 23]]]]\n",
            "4\n",
            "24\n"
          ],
          "name": "stdout"
        }
      ]
    },
    {
      "cell_type": "markdown",
      "metadata": {
        "id": "NAu5Ofp970RR"
      },
      "source": [
        "QUESTION 4\n",
        "\n",
        "How to convert a 1D array into a 2D array? Demonstrate with the help of a code snippet\n",
        "Hint: np.newaxis, np.expand_dims"
      ]
    },
    {
      "cell_type": "code",
      "metadata": {
        "id": "yatD5Att72T8",
        "outputId": "0793d751-2bd4-4575-abc1-b2c0232d01df",
        "colab": {
          "base_uri": "https://localhost:8080/"
        }
      },
      "source": [
        "import numpy as np\n",
        "arr = ([1,2,3,4,5,6,7,8])\n",
        "arr2 = np.reshape(arr,(2,4))\n",
        "print (arr2)"
      ],
      "execution_count": 26,
      "outputs": [
        {
          "output_type": "stream",
          "text": [
            "[[1 2 3 4]\n",
            " [5 6 7 8]]\n"
          ],
          "name": "stdout"
        }
      ]
    },
    {
      "cell_type": "markdown",
      "metadata": {
        "id": "miR6iqxc72tm"
      },
      "source": [
        "QUESTION 5\n",
        "\n",
        "Consider two square numpy arrays. Stack them vertically and horizontally.\n",
        "Hint: Use vstack(), hstack()"
      ]
    },
    {
      "cell_type": "code",
      "metadata": {
        "id": "0UT-vW5278bU",
        "outputId": "3f88db2e-b684-45a3-ee6f-0d26135471b3",
        "colab": {
          "base_uri": "https://localhost:8080/"
        }
      },
      "source": [
        "import numpy as np\n",
        "arr = ([1,2,3,4,5,6,7,8])\n",
        "arr2 = np.vstack(arr)\n",
        "print (arr2)\n",
        "arr3 = np.hstack(arr)\n",
        "print(arr3)"
      ],
      "execution_count": 28,
      "outputs": [
        {
          "output_type": "stream",
          "text": [
            "[[1]\n",
            " [2]\n",
            " [3]\n",
            " [4]\n",
            " [5]\n",
            " [6]\n",
            " [7]\n",
            " [8]]\n",
            "[1 2 3 4 5 6 7 8]\n"
          ],
          "name": "stdout"
        }
      ]
    },
    {
      "cell_type": "markdown",
      "metadata": {
        "id": "GscazIWR78k6"
      },
      "source": [
        "QUESTION 6\n",
        "\n",
        "How to get unique items and counts of unique items?"
      ]
    },
    {
      "cell_type": "code",
      "metadata": {
        "id": "_s1BFLG28Axh",
        "outputId": "52e0b93b-de11-45dc-cd70-b8e2397f2c0d",
        "colab": {
          "base_uri": "https://localhost:8080/"
        }
      },
      "source": [
        "import numpy as np\n",
        "arr = ([1,2,3,67,67,5],[3,3,2,2,1,5,])\n",
        "unique = np.unique(arr)\n",
        "print(unique)"
      ],
      "execution_count": 31,
      "outputs": [
        {
          "output_type": "stream",
          "text": [
            "[ 1  2  3  5 67]\n"
          ],
          "name": "stdout"
        }
      ]
    }
  ]
}